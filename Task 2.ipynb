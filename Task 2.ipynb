{
 "cells": [
  {
   "cell_type": "code",
   "execution_count": 39,
   "metadata": {},
   "outputs": [],
   "source": [
    "import numpy as np\n",
    "import pandas as pd\n",
    "import matplotlib.pyplot as plt\n",
    "import math\n",
    "import random"
   ]
  },
  {
   "cell_type": "code",
   "execution_count": 2,
   "metadata": {},
   "outputs": [],
   "source": [
    "df = pd.read_csv(\"creditcard.csv\")"
   ]
  },
  {
   "cell_type": "code",
   "execution_count": 28,
   "metadata": {},
   "outputs": [],
   "source": [
    "X = df.iloc[:,0:len(df.columns)-2].values\n",
    "y = df.iloc[:,len(df.columns)-1].values\n",
    "from sklearn.preprocessing import StandardScaler\n",
    "X_std = StandardScaler().fit_transform(X)\n",
    "mean_vec = np.mean(X_std, axis=0)\n",
    "cov_mat = (X_std - mean_vec).T.dot((X_std - mean_vec)) / (X_std.shape[0]-1)\n",
    "eig_vals, eig_vecs = np.linalg.eig(cov_mat)\n",
    "eig_pairs = [(np.abs(eig_vals[i]), eig_vecs[:,i]) for i in range(len(eig_vals))]\n",
    "eig_pairs = sorted(eig_pairs, key=lambda x: x[0])\n",
    "eig_pairs.reverse()\n",
    "matrix_w = np.hstack((eig_pairs[0][1].reshape(29,1), \n",
    "                      eig_pairs[1][1].reshape(29,1),))\n",
    "matrix_final = X_std.dot(matrix_w)\n"
   ]
  },
  {
   "cell_type": "code",
   "execution_count": 29,
   "metadata": {},
   "outputs": [],
   "source": [
    "def mahalanobis_distance(a,s):\n",
    "    at = a.T\n",
    "    b = np.dot(at,s)\n",
    "    c = np.dot(b,a)\n",
    "    return math.sqrt(c)"
   ]
  },
  {
   "cell_type": "code",
   "execution_count": 30,
   "metadata": {},
   "outputs": [],
   "source": [
    "u = np.mean(matrix_final, axis=0)\n",
    "s = (matrix_final - u).T.dot((matrix_final - u)) / (len(matrix_final)-1)\n",
    "si = np.linalg.inv(s)\n",
    "new_matrix =[]\n",
    "for i in matrix_final:\n",
    "    a = i-u\n",
    "    new_matrix.append(mahalanobis_distance(a,si))"
   ]
  },
  {
   "cell_type": "code",
   "execution_count": 31,
   "metadata": {},
   "outputs": [],
   "source": [
    "new_matrix_sorted = sorted(range(len(new_matrix)), key=lambda k: new_matrix[k])"
   ]
  },
  {
   "cell_type": "code",
   "execution_count": 33,
   "metadata": {},
   "outputs": [],
   "source": [
    "per = int(len(new_matrix)*0.05)"
   ]
  },
  {
   "cell_type": "code",
   "execution_count": 34,
   "metadata": {},
   "outputs": [],
   "source": [
    "matrix_reduced = []\n",
    "for i in new_matrix_sorted[0:len(new_matrix_sorted)-per]:\n",
    "    matrix_reduced.append(matrix_final[i])"
   ]
  },
  {
   "cell_type": "code",
   "execution_count": 45,
   "metadata": {},
   "outputs": [
    {
     "data": {
      "image/png": "[encoded data removed]",
      "text/plain": [
       "<Figure size 432x288 with 1 Axes>"
      ]
     },
     "metadata": {},
     "output_type": "display_data"
    }
   ],
   "source": [
    "for i in matrix_reduced[0:30000]:\n",
    "    plt.scatter(i[0],i[1],color='b')\n",
    "for j in new_matrix_sorted[len(new_matrix_sorted)-per:len(new_matrix_sorted)-per+3000]:\n",
    "    plt.scatter(matrix_final[j][0],matrix_final[j][1],color='r')"
   ]
  },
  {
   "cell_type": "code",
   "execution_count": null,
   "metadata": {},
   "outputs": [],
   "source": []
  }
 ],
 "metadata": {
  "kernelspec": {
   "display_name": "Python 3",
   "language": "python",
   "name": "python3"
  },
  "language_info": {
   "codemirror_mode": {
    "name": "ipython",
    "version": 3
   },
   "file_extension": ".py",
   "mimetype": "text/x-python",
   "name": "python",
   "nbconvert_exporter": "python",
   "pygments_lexer": "ipython3",
   "version": "3.5.5"
  }
 },
 "nbformat": 4,
 "nbformat_minor": 2
}
