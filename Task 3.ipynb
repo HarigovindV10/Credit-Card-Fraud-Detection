{
 "cells": [
  {
   "cell_type": "code",
   "execution_count": 3,
   "metadata": {},
   "outputs": [],
   "source": [
    "import numpy as np\n",
    "import pandas as pd\n",
    "import matplotlib.pyplot as plt\n",
    "import math\n",
    "import random"
   ]
  },
  {
   "cell_type": "code",
   "execution_count": 4,
   "metadata": {},
   "outputs": [],
   "source": [
    "df = pd.read_csv(\"creditcard.csv\")"
   ]
  },
  {
   "cell_type": "code",
   "execution_count": 5,
   "metadata": {},
   "outputs": [],
   "source": [
    "X = df.iloc[:,0:len(df.columns)-2].values\n",
    "y = df.iloc[:,len(df.columns)-1].values\n",
    "from sklearn.preprocessing import StandardScaler\n",
    "X_std = StandardScaler().fit_transform(X)\n",
    "mean_vec = np.mean(X_std, axis=0)\n",
    "cov_mat = (X_std - mean_vec).T.dot((X_std - mean_vec)) / (X_std.shape[0]-1)\n",
    "eig_vals, eig_vecs = np.linalg.eig(cov_mat)\n",
    "eig_pairs = [(np.abs(eig_vals[i]), eig_vecs[:,i]) for i in range(len(eig_vals))]\n",
    "eig_pairs = sorted(eig_pairs, key=lambda x: x[0])\n",
    "eig_pairs.reverse()\n",
    "matrix_w = np.hstack((eig_pairs[0][1].reshape(29,1), \n",
    "                      eig_pairs[1][1].reshape(29,1),))\n",
    "matrix_final = X_std.dot(matrix_w)\n"
   ]
  },
  {
   "cell_type": "code",
   "execution_count": 6,
   "metadata": {},
   "outputs": [],
   "source": [
    "def mahalanobis_distance(a,s):\n",
    "    at = a.T\n",
    "    b = np.dot(at,s)\n",
    "    c = np.dot(b,a)\n",
    "    return math.sqrt(c)"
   ]
  },
  {
   "cell_type": "code",
   "execution_count": 7,
   "metadata": {},
   "outputs": [],
   "source": [
    "u = np.mean(matrix_final, axis=0)\n",
    "s = (matrix_final - u).T.dot((matrix_final - u)) / (len(matrix_final)-1)\n",
    "si = np.linalg.inv(s)\n",
    "new_matrix =[]\n",
    "for i in matrix_final:\n",
    "    a = i-u\n",
    "    new_matrix.append(mahalanobis_distance(a,si))"
   ]
  },
  {
   "cell_type": "code",
   "execution_count": 8,
   "metadata": {},
   "outputs": [],
   "source": [
    "new_matrix_sorted = sorted(range(len(new_matrix)), key=lambda k: new_matrix[k])"
   ]
  },
  {
   "cell_type": "code",
   "execution_count": 9,
   "metadata": {},
   "outputs": [],
   "source": [
    "per = int(len(new_matrix)*0.05)"
   ]
  },
  {
   "cell_type": "code",
   "execution_count": 10,
   "metadata": {},
   "outputs": [],
   "source": [
    "matrix_reduced = []\n",
    "for i in new_matrix_sorted[0:len(new_matrix_sorted)-per]:\n",
    "    matrix_reduced.append(matrix_final[i])"
   ]
  },
  {
   "cell_type": "code",
   "execution_count": 11,
   "metadata": {},
   "outputs": [
    {
     "name": "stdout",
     "output_type": "stream",
     "text": [
      "Outliers Mahalanobis\n",
      "No of fraud :306\n",
      "No of non-fraud: 13934\n",
      "Percentage of fraud :2.148876404494382%\n",
      "\n"
     ]
    }
   ],
   "source": [
    "print(\"Outliers Mahalanobis\")\n",
    "count_x = 0\n",
    "count_y = 0\n",
    "for i in new_matrix_sorted[len(new_matrix_sorted)-per:len(new_matrix_sorted)]:\n",
    "    if y[i] == 1:\n",
    "        count_y += 1\n",
    "    else:\n",
    "        count_x += 1\n",
    "print(\"No of fraud :{0}\\nNo of non-fraud: {1}\\nPercentage of fraud :{2}%\\n\".format(count_y,count_x,(count_y/(count_y+count_x))*100))"
   ]
  },
  {
   "cell_type": "code",
   "execution_count": 12,
   "metadata": {},
   "outputs": [
    {
     "name": "stdout",
     "output_type": "stream",
     "text": [
      "No of fraud :186\n",
      "No of non-fraud: 270381\n",
      "Percentage of fraud :0.06874452538557917%\n",
      "\n"
     ]
    }
   ],
   "source": [
    "count_x = 0\n",
    "count_y = 0\n",
    "for i in new_matrix_sorted[0:len(new_matrix_sorted)-per]:\n",
    "    if y[i] == 1:\n",
    "        count_y += 1\n",
    "    else:\n",
    "        count_x += 1\n",
    "print(\"No of fraud :{0}\\nNo of non-fraud: {1}\\nPercentage of fraud :{2}%\\n\".format(count_y,count_x,(count_y/(count_y+count_x))*100))"
   ]
  },
  {
   "cell_type": "code",
   "execution_count": 13,
   "metadata": {},
   "outputs": [
    {
     "name": "stdout",
     "output_type": "stream",
     "text": [
      "Percentage of fraud in outliers :62.19512195121951% \n"
     ]
    }
   ],
   "source": [
    "a = 306/(306+186)\n",
    "a = a*100\n",
    "print(\"Percentage of fraud in outliers :{0}% \".format(a))"
   ]
  },
  {
   "cell_type": "code",
   "execution_count": 20,
   "metadata": {},
   "outputs": [
    {
     "name": "stderr",
     "output_type": "stream",
     "text": [
      "/Users/harigovindvalsakumar/anaconda3/envs/tensorflow/lib/python3.5/site-packages/ipykernel_launcher.py:6: DeprecationWarning: in the future out of bounds indices will raise an error instead of being ignored by `numpy.delete`.\n",
      "  \n"
     ]
    }
   ],
   "source": [
    "from sklearn.cluster import KMeans\n",
    "kmeans = KMeans(n_clusters=2, random_state=0).fit(matrix_final)\n",
    "distances = kmeans.transform(matrix_final)\n",
    "sorted_idx = np.argsort(distances.ravel())[::-1][:per]\n",
    "\n",
    "new_X = np.delete(matrix_final, sorted_idx, axis=0)\n",
    "\n"
   ]
  },
  {
   "cell_type": "code",
   "execution_count": 21,
   "metadata": {},
   "outputs": [
    {
     "data": {
      "text/plain": [
       "array([301308, 301294, 301309, ...,   3738, 304167,  19494])"
      ]
     },
     "execution_count": 21,
     "metadata": {},
     "output_type": "execute_result"
    }
   ],
   "source": [
    "sorted_idx"
   ]
  },
  {
   "cell_type": "code",
   "execution_count": 22,
   "metadata": {},
   "outputs": [
    {
     "name": "stdout",
     "output_type": "stream",
     "text": [
      "Percentage of fraud in outliers :7.926829268292683% \n"
     ]
    }
   ],
   "source": [
    "fo = 0\n",
    "f = 0\n",
    "for i in range(len(matrix_final)):\n",
    "    if i in sorted_idx:\n",
    "        if y[i] == 1:\n",
    "            fo += 1\n",
    "    elif y[i] == 1:\n",
    "        f += 1\n",
    "a = fo/(fo+f)\n",
    "a = a*100\n",
    "print(\"Percentage of fraud in outliers :{0}% \".format(a))\n",
    "    "
   ]
  }
 ],
 "metadata": {
  "kernelspec": {
   "display_name": "Python 3",
   "language": "python",
   "name": "python3"
  },
  "language_info": {
   "codemirror_mode": {
    "name": "ipython",
    "version": 3
   },
   "file_extension": ".py",
   "mimetype": "text/x-python",
   "name": "python",
   "nbconvert_exporter": "python",
   "pygments_lexer": "ipython3",
   "version": "3.5.5"
  }
 },
 "nbformat": 4,
 "nbformat_minor": 2
}
